{
 "cells": [
  {
   "cell_type": "markdown",
   "metadata": {},
   "source": [
    "# Variable Rate Problem\n",
    "\n",
    "- Working alone at its constant rate, machine A produces K liters of a chemical in 10 minutes. \n",
    "- Working alone at its constant rate, machine B produces K liters of the chemical in 15 minutes. \n",
    "\n",
    "How many minutes does it take machines A&B, working simultaneously at their respective constant rates, to produce K liters of the chemical?"
   ]
  },
  {
   "cell_type": "markdown",
   "metadata": {},
   "source": [
    "## Production Rates:\n",
    "- Machine A: $ \\frac{K}{10} $ liters / minute\n",
    "- Machine B: $ \\frac{K}{15} $ liters / minute"
   ]
  },
  {
   "cell_type": "markdown",
   "metadata": {},
   "source": [
    "# Solution"
   ]
  },
  {
   "cell_type": "code",
   "execution_count": 1,
   "metadata": {
    "collapsed": true
   },
   "outputs": [],
   "source": [
    "import sympy"
   ]
  },
  {
   "cell_type": "code",
   "execution_count": 5,
   "metadata": {
    "collapsed": false
   },
   "outputs": [
    {
     "data": {
      "text/plain": [
       "K/6"
      ]
     },
     "execution_count": 5,
     "metadata": {},
     "output_type": "execute_result"
    }
   ],
   "source": [
    "K = sympy.symbol.Symbol(\"K\")\n",
    "K/10 + K/15"
   ]
  },
  {
   "cell_type": "markdown",
   "metadata": {},
   "source": [
    "- Machines A & B: $ \\frac{K}{10} + \\frac{K}{15} = \\frac{K}{6} $ liters / minute\n",
    "\n",
    "Therefore, to produce K liters of chemical, it would take 6 minutes."
   ]
  }
 ],
 "metadata": {
  "kernelspec": {
   "display_name": "Python 3",
   "language": "python",
   "name": "python3"
  },
  "language_info": {
   "codemirror_mode": {
    "name": "ipython",
    "version": 3
   },
   "file_extension": ".py",
   "mimetype": "text/x-python",
   "name": "python",
   "nbconvert_exporter": "python",
   "pygments_lexer": "ipython3",
   "version": "3.5.2"
  }
 },
 "nbformat": 4,
 "nbformat_minor": 1
}
